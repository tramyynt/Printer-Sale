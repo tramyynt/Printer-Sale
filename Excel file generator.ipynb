{
  "nbformat": 4,
  "nbformat_minor": 0,
  "metadata": {
    "colab": {
      "name": "Formlabs test.ipynb",
      "provenance": [],
      "collapsed_sections": [],
      "authorship_tag": "ABX9TyOGYeDAM3hMH75Qcx+1QfTI",
      "include_colab_link": true
    },
    "kernelspec": {
      "name": "python3",
      "display_name": "Python 3"
    },
    "language_info": {
      "name": "python"
    }
  },
  "cells": [
    {
      "cell_type": "markdown",
      "metadata": {
        "id": "view-in-github",
        "colab_type": "text"
      },
      "source": [
        "<a href=\"https://colab.research.google.com/github/tramyynt/Printer-Sale/blob/main/Excel%20file%20generator.ipynb\" target=\"_parent\"><img src=\"https://colab.research.google.com/assets/colab-badge.svg\" alt=\"Open In Colab\"/></a>"
      ]
    },
    {
      "cell_type": "code",
      "execution_count": 1,
      "metadata": {
        "id": "e0Dmhw6_nfDp"
      },
      "outputs": [],
      "source": [
        "import numpy as np\n",
        "import calendar\n",
        "import pandas as pd\n",
        "\n",
        "import seaborn as sns\n",
        "import matplotlib.pyplot as plt\n",
        "import plotly.graph_objs as go\n",
        "import plotly.express as px\n",
        "\n",
        "import sklearn\n",
        "from sklearn.linear_model import Ridge\n",
        "from sklearn.ensemble import RandomForestRegressor\n",
        "from sklearn.tree import DecisionTreeRegressor\n",
        "from sklearn.linear_model import LinearRegression\n",
        "from sklearn.linear_model import Ridge\n",
        "\n",
        "from sklearn.model_selection import train_test_split\n",
        "from sklearn.model_selection import KFold,cross_val_score\n",
        "\n",
        "from sklearn.metrics import r2_score\n",
        "import sklearn.metrics as metrics"
      ]
    },
    {
      "cell_type": "code",
      "source": [
        "from google.colab import drive\n",
        "drive.mount('/content/drive')"
      ],
      "metadata": {
        "colab": {
          "base_uri": "https://localhost:8080/"
        },
        "id": "eipRuaeJnlTt",
        "outputId": "c1ae139a-394f-46fb-8302-e3cd8a0dc087"
      },
      "execution_count": 2,
      "outputs": [
        {
          "output_type": "stream",
          "name": "stdout",
          "text": [
            "Mounted at /content/drive\n"
          ]
        }
      ]
    },
    {
      "cell_type": "code",
      "source": [
        "data = pd.read_csv('/content/drive/MyDrive/DataAnalystIntern_CaseStudy_Data.csv', delimiter = ';')"
      ],
      "metadata": {
        "id": "x9jnpyOUn8u4"
      },
      "execution_count": 3,
      "outputs": []
    },
    {
      "cell_type": "code",
      "source": [
        "data.info()"
      ],
      "metadata": {
        "colab": {
          "base_uri": "https://localhost:8080/"
        },
        "id": "XBRxUZTCCOXm",
        "outputId": "357c83ac-31c5-4dfd-f7b2-0e07294fa71b"
      },
      "execution_count": 31,
      "outputs": [
        {
          "output_type": "stream",
          "name": "stdout",
          "text": [
            "<class 'pandas.core.frame.DataFrame'>\n",
            "RangeIndex: 848 entries, 0 to 847\n",
            "Data columns (total 9 columns):\n",
            " #   Column                Non-Null Count  Dtype \n",
            "---  ------                --------------  ----- \n",
            " 0   Customer ID           848 non-null    object\n",
            " 1   Order ID              848 non-null    object\n",
            " 2   Order Status          848 non-null    object\n",
            " 3   Order Approval Date   848 non-null    object\n",
            " 4   Order Delivered Date  401 non-null    object\n",
            " 5   Product Code          848 non-null    object\n",
            " 6   Product Name          848 non-null    object\n",
            " 7   Product Quantity      848 non-null    object\n",
            " 8   Product Ship Date     848 non-null    object\n",
            "dtypes: object(9)\n",
            "memory usage: 59.8+ KB\n"
          ]
        }
      ]
    },
    {
      "cell_type": "code",
      "source": [
        "data.isna().sum()"
      ],
      "metadata": {
        "colab": {
          "base_uri": "https://localhost:8080/"
        },
        "id": "0Pio9QBIIWh7",
        "outputId": "479adf0b-9827-422b-d624-ba2016c8a5d7"
      },
      "execution_count": null,
      "outputs": [
        {
          "output_type": "execute_result",
          "data": {
            "text/plain": [
              "Customer ID               0\n",
              "Order ID                  0\n",
              "Order Status              0\n",
              "Order Approval Date       0\n",
              "Order Delivered Date    447\n",
              "Product Code              0\n",
              "Product Name              0\n",
              "Product Quantity          0\n",
              "Product Ship Date         0\n",
              "dtype: int64"
            ]
          },
          "metadata": {},
          "execution_count": 17
        }
      ]
    },
    {
      "cell_type": "code",
      "source": [
        "#convert string to int by replacing comma\n",
        "data['Product Quantity'] = data['Product Quantity'].apply(lambda x: x.replace(',','.'))\n",
        "data['Product Quantity'] = data['Product Quantity'].astype(float)\n",
        "data['Product Quantity'] = data['Product Quantity'].astype(int)"
      ],
      "metadata": {
        "id": "8ien5UjkwLKR"
      },
      "execution_count": 4,
      "outputs": []
    },
    {
      "cell_type": "code",
      "source": [
        "data.head(5)"
      ],
      "metadata": {
        "colab": {
          "base_uri": "https://localhost:8080/",
          "height": 354
        },
        "id": "vyHk0UlAtiGF",
        "outputId": "42de693b-82c3-4664-93ca-8090a39f189a"
      },
      "execution_count": 5,
      "outputs": [
        {
          "output_type": "execute_result",
          "data": {
            "text/plain": [
              "  Customer ID   Order ID Order Status Order Approval Date  \\\n",
              "0   11Y31JDd9  15d02hi1J     complete          31.12.2021   \n",
              "1   11Y31JDd9  15d02hi1J     complete          31.12.2021   \n",
              "2   11Y2uLTX8  15d02hhwE     complete          31.12.2021   \n",
              "3   11Y2uLTX8  15d02hhwE     complete          31.12.2021   \n",
              "4   11Y2uLTX8  15d02hhwE     complete          31.12.2021   \n",
              "\n",
              "  Order Delivered Date   Product Code         Product Name  Product Quantity  \\\n",
              "0     19.01.2022 15:40       FH-WA-01            Form Wash                 1   \n",
              "1     19.01.2022 15:40       FH-CU-01            Form Cure                 1   \n",
              "2     19.01.2022 09:59  F3B-P-PRINTER  Form 3B+ 3D Printer                 1   \n",
              "3     19.01.2022 09:59       FH-WA-01            Form Wash                 1   \n",
              "4     19.01.2022 09:59       FH-CU-01            Form Cure                 1   \n",
              "\n",
              "  Product Ship Date  \n",
              "0  13.01.2022 01:00  \n",
              "1  06.01.2022 01:00  \n",
              "2  05.11.2025 01:00  \n",
              "3  06.01.2022 01:00  \n",
              "4  06.01.2022 01:00  "
            ],
            "text/html": [
              "\n",
              "  <div id=\"df-3b4d5bb0-1711-44ee-9b81-b602beb9f4d4\">\n",
              "    <div class=\"colab-df-container\">\n",
              "      <div>\n",
              "<style scoped>\n",
              "    .dataframe tbody tr th:only-of-type {\n",
              "        vertical-align: middle;\n",
              "    }\n",
              "\n",
              "    .dataframe tbody tr th {\n",
              "        vertical-align: top;\n",
              "    }\n",
              "\n",
              "    .dataframe thead th {\n",
              "        text-align: right;\n",
              "    }\n",
              "</style>\n",
              "<table border=\"1\" class=\"dataframe\">\n",
              "  <thead>\n",
              "    <tr style=\"text-align: right;\">\n",
              "      <th></th>\n",
              "      <th>Customer ID</th>\n",
              "      <th>Order ID</th>\n",
              "      <th>Order Status</th>\n",
              "      <th>Order Approval Date</th>\n",
              "      <th>Order Delivered Date</th>\n",
              "      <th>Product Code</th>\n",
              "      <th>Product Name</th>\n",
              "      <th>Product Quantity</th>\n",
              "      <th>Product Ship Date</th>\n",
              "    </tr>\n",
              "  </thead>\n",
              "  <tbody>\n",
              "    <tr>\n",
              "      <th>0</th>\n",
              "      <td>11Y31JDd9</td>\n",
              "      <td>15d02hi1J</td>\n",
              "      <td>complete</td>\n",
              "      <td>31.12.2021</td>\n",
              "      <td>19.01.2022 15:40</td>\n",
              "      <td>FH-WA-01</td>\n",
              "      <td>Form Wash</td>\n",
              "      <td>1</td>\n",
              "      <td>13.01.2022 01:00</td>\n",
              "    </tr>\n",
              "    <tr>\n",
              "      <th>1</th>\n",
              "      <td>11Y31JDd9</td>\n",
              "      <td>15d02hi1J</td>\n",
              "      <td>complete</td>\n",
              "      <td>31.12.2021</td>\n",
              "      <td>19.01.2022 15:40</td>\n",
              "      <td>FH-CU-01</td>\n",
              "      <td>Form Cure</td>\n",
              "      <td>1</td>\n",
              "      <td>06.01.2022 01:00</td>\n",
              "    </tr>\n",
              "    <tr>\n",
              "      <th>2</th>\n",
              "      <td>11Y2uLTX8</td>\n",
              "      <td>15d02hhwE</td>\n",
              "      <td>complete</td>\n",
              "      <td>31.12.2021</td>\n",
              "      <td>19.01.2022 09:59</td>\n",
              "      <td>F3B-P-PRINTER</td>\n",
              "      <td>Form 3B+ 3D Printer</td>\n",
              "      <td>1</td>\n",
              "      <td>05.11.2025 01:00</td>\n",
              "    </tr>\n",
              "    <tr>\n",
              "      <th>3</th>\n",
              "      <td>11Y2uLTX8</td>\n",
              "      <td>15d02hhwE</td>\n",
              "      <td>complete</td>\n",
              "      <td>31.12.2021</td>\n",
              "      <td>19.01.2022 09:59</td>\n",
              "      <td>FH-WA-01</td>\n",
              "      <td>Form Wash</td>\n",
              "      <td>1</td>\n",
              "      <td>06.01.2022 01:00</td>\n",
              "    </tr>\n",
              "    <tr>\n",
              "      <th>4</th>\n",
              "      <td>11Y2uLTX8</td>\n",
              "      <td>15d02hhwE</td>\n",
              "      <td>complete</td>\n",
              "      <td>31.12.2021</td>\n",
              "      <td>19.01.2022 09:59</td>\n",
              "      <td>FH-CU-01</td>\n",
              "      <td>Form Cure</td>\n",
              "      <td>1</td>\n",
              "      <td>06.01.2022 01:00</td>\n",
              "    </tr>\n",
              "  </tbody>\n",
              "</table>\n",
              "</div>\n",
              "      <button class=\"colab-df-convert\" onclick=\"convertToInteractive('df-3b4d5bb0-1711-44ee-9b81-b602beb9f4d4')\"\n",
              "              title=\"Convert this dataframe to an interactive table.\"\n",
              "              style=\"display:none;\">\n",
              "        \n",
              "  <svg xmlns=\"http://www.w3.org/2000/svg\" height=\"24px\"viewBox=\"0 0 24 24\"\n",
              "       width=\"24px\">\n",
              "    <path d=\"M0 0h24v24H0V0z\" fill=\"none\"/>\n",
              "    <path d=\"M18.56 5.44l.94 2.06.94-2.06 2.06-.94-2.06-.94-.94-2.06-.94 2.06-2.06.94zm-11 1L8.5 8.5l.94-2.06 2.06-.94-2.06-.94L8.5 2.5l-.94 2.06-2.06.94zm10 10l.94 2.06.94-2.06 2.06-.94-2.06-.94-.94-2.06-.94 2.06-2.06.94z\"/><path d=\"M17.41 7.96l-1.37-1.37c-.4-.4-.92-.59-1.43-.59-.52 0-1.04.2-1.43.59L10.3 9.45l-7.72 7.72c-.78.78-.78 2.05 0 2.83L4 21.41c.39.39.9.59 1.41.59.51 0 1.02-.2 1.41-.59l7.78-7.78 2.81-2.81c.8-.78.8-2.07 0-2.86zM5.41 20L4 18.59l7.72-7.72 1.47 1.35L5.41 20z\"/>\n",
              "  </svg>\n",
              "      </button>\n",
              "      \n",
              "  <style>\n",
              "    .colab-df-container {\n",
              "      display:flex;\n",
              "      flex-wrap:wrap;\n",
              "      gap: 12px;\n",
              "    }\n",
              "\n",
              "    .colab-df-convert {\n",
              "      background-color: #E8F0FE;\n",
              "      border: none;\n",
              "      border-radius: 50%;\n",
              "      cursor: pointer;\n",
              "      display: none;\n",
              "      fill: #1967D2;\n",
              "      height: 32px;\n",
              "      padding: 0 0 0 0;\n",
              "      width: 32px;\n",
              "    }\n",
              "\n",
              "    .colab-df-convert:hover {\n",
              "      background-color: #E2EBFA;\n",
              "      box-shadow: 0px 1px 2px rgba(60, 64, 67, 0.3), 0px 1px 3px 1px rgba(60, 64, 67, 0.15);\n",
              "      fill: #174EA6;\n",
              "    }\n",
              "\n",
              "    [theme=dark] .colab-df-convert {\n",
              "      background-color: #3B4455;\n",
              "      fill: #D2E3FC;\n",
              "    }\n",
              "\n",
              "    [theme=dark] .colab-df-convert:hover {\n",
              "      background-color: #434B5C;\n",
              "      box-shadow: 0px 1px 3px 1px rgba(0, 0, 0, 0.15);\n",
              "      filter: drop-shadow(0px 1px 2px rgba(0, 0, 0, 0.3));\n",
              "      fill: #FFFFFF;\n",
              "    }\n",
              "  </style>\n",
              "\n",
              "      <script>\n",
              "        const buttonEl =\n",
              "          document.querySelector('#df-3b4d5bb0-1711-44ee-9b81-b602beb9f4d4 button.colab-df-convert');\n",
              "        buttonEl.style.display =\n",
              "          google.colab.kernel.accessAllowed ? 'block' : 'none';\n",
              "\n",
              "        async function convertToInteractive(key) {\n",
              "          const element = document.querySelector('#df-3b4d5bb0-1711-44ee-9b81-b602beb9f4d4');\n",
              "          const dataTable =\n",
              "            await google.colab.kernel.invokeFunction('convertToInteractive',\n",
              "                                                     [key], {});\n",
              "          if (!dataTable) return;\n",
              "\n",
              "          const docLinkHtml = 'Like what you see? Visit the ' +\n",
              "            '<a target=\"_blank\" href=https://colab.research.google.com/notebooks/data_table.ipynb>data table notebook</a>'\n",
              "            + ' to learn more about interactive tables.';\n",
              "          element.innerHTML = '';\n",
              "          dataTable['output_type'] = 'display_data';\n",
              "          await google.colab.output.renderOutput(dataTable, element);\n",
              "          const docLink = document.createElement('div');\n",
              "          docLink.innerHTML = docLinkHtml;\n",
              "          element.appendChild(docLink);\n",
              "        }\n",
              "      </script>\n",
              "    </div>\n",
              "  </div>\n",
              "  "
            ]
          },
          "metadata": {},
          "execution_count": 5
        }
      ]
    },
    {
      "cell_type": "code",
      "source": [
        "#how many order each customer has and total unique products\n",
        "Num_Ord = data.groupby('Customer ID')[['Order ID', 'Product Code']].nunique()\n",
        "#data[data['Customer ID']=='1iqNlAT']\n",
        "Num_Ord"
      ],
      "metadata": {
        "colab": {
          "base_uri": "https://localhost:8080/",
          "height": 455
        },
        "id": "RZVGOqHO4CTY",
        "outputId": "ae78df96-f6f9-48e1-9d2f-22a27f6099da"
      },
      "execution_count": 8,
      "outputs": [
        {
          "output_type": "execute_result",
          "data": {
            "text/plain": [
              "             Order ID  Product Code\n",
              "Customer ID                        \n",
              "11Y2FaW5I           1             1\n",
              "11Y2FakFP           1             3\n",
              "11Y2FbEqW           1             1\n",
              "11Y2FbLzm           1             2\n",
              "11Y2FbMEp           1             1\n",
              "...               ...           ...\n",
              "1if2UoW             1             1\n",
              "1iqNlAT             5             4\n",
              "1iqNlIf             1             1\n",
              "1isejiK             1             3\n",
              "1iyVMnR             1             2\n",
              "\n",
              "[222 rows x 2 columns]"
            ],
            "text/html": [
              "\n",
              "  <div id=\"df-40edd898-f58d-4da5-83e9-5031c4887104\">\n",
              "    <div class=\"colab-df-container\">\n",
              "      <div>\n",
              "<style scoped>\n",
              "    .dataframe tbody tr th:only-of-type {\n",
              "        vertical-align: middle;\n",
              "    }\n",
              "\n",
              "    .dataframe tbody tr th {\n",
              "        vertical-align: top;\n",
              "    }\n",
              "\n",
              "    .dataframe thead th {\n",
              "        text-align: right;\n",
              "    }\n",
              "</style>\n",
              "<table border=\"1\" class=\"dataframe\">\n",
              "  <thead>\n",
              "    <tr style=\"text-align: right;\">\n",
              "      <th></th>\n",
              "      <th>Order ID</th>\n",
              "      <th>Product Code</th>\n",
              "    </tr>\n",
              "    <tr>\n",
              "      <th>Customer ID</th>\n",
              "      <th></th>\n",
              "      <th></th>\n",
              "    </tr>\n",
              "  </thead>\n",
              "  <tbody>\n",
              "    <tr>\n",
              "      <th>11Y2FaW5I</th>\n",
              "      <td>1</td>\n",
              "      <td>1</td>\n",
              "    </tr>\n",
              "    <tr>\n",
              "      <th>11Y2FakFP</th>\n",
              "      <td>1</td>\n",
              "      <td>3</td>\n",
              "    </tr>\n",
              "    <tr>\n",
              "      <th>11Y2FbEqW</th>\n",
              "      <td>1</td>\n",
              "      <td>1</td>\n",
              "    </tr>\n",
              "    <tr>\n",
              "      <th>11Y2FbLzm</th>\n",
              "      <td>1</td>\n",
              "      <td>2</td>\n",
              "    </tr>\n",
              "    <tr>\n",
              "      <th>11Y2FbMEp</th>\n",
              "      <td>1</td>\n",
              "      <td>1</td>\n",
              "    </tr>\n",
              "    <tr>\n",
              "      <th>...</th>\n",
              "      <td>...</td>\n",
              "      <td>...</td>\n",
              "    </tr>\n",
              "    <tr>\n",
              "      <th>1if2UoW</th>\n",
              "      <td>1</td>\n",
              "      <td>1</td>\n",
              "    </tr>\n",
              "    <tr>\n",
              "      <th>1iqNlAT</th>\n",
              "      <td>5</td>\n",
              "      <td>4</td>\n",
              "    </tr>\n",
              "    <tr>\n",
              "      <th>1iqNlIf</th>\n",
              "      <td>1</td>\n",
              "      <td>1</td>\n",
              "    </tr>\n",
              "    <tr>\n",
              "      <th>1isejiK</th>\n",
              "      <td>1</td>\n",
              "      <td>3</td>\n",
              "    </tr>\n",
              "    <tr>\n",
              "      <th>1iyVMnR</th>\n",
              "      <td>1</td>\n",
              "      <td>2</td>\n",
              "    </tr>\n",
              "  </tbody>\n",
              "</table>\n",
              "<p>222 rows × 2 columns</p>\n",
              "</div>\n",
              "      <button class=\"colab-df-convert\" onclick=\"convertToInteractive('df-40edd898-f58d-4da5-83e9-5031c4887104')\"\n",
              "              title=\"Convert this dataframe to an interactive table.\"\n",
              "              style=\"display:none;\">\n",
              "        \n",
              "  <svg xmlns=\"http://www.w3.org/2000/svg\" height=\"24px\"viewBox=\"0 0 24 24\"\n",
              "       width=\"24px\">\n",
              "    <path d=\"M0 0h24v24H0V0z\" fill=\"none\"/>\n",
              "    <path d=\"M18.56 5.44l.94 2.06.94-2.06 2.06-.94-2.06-.94-.94-2.06-.94 2.06-2.06.94zm-11 1L8.5 8.5l.94-2.06 2.06-.94-2.06-.94L8.5 2.5l-.94 2.06-2.06.94zm10 10l.94 2.06.94-2.06 2.06-.94-2.06-.94-.94-2.06-.94 2.06-2.06.94z\"/><path d=\"M17.41 7.96l-1.37-1.37c-.4-.4-.92-.59-1.43-.59-.52 0-1.04.2-1.43.59L10.3 9.45l-7.72 7.72c-.78.78-.78 2.05 0 2.83L4 21.41c.39.39.9.59 1.41.59.51 0 1.02-.2 1.41-.59l7.78-7.78 2.81-2.81c.8-.78.8-2.07 0-2.86zM5.41 20L4 18.59l7.72-7.72 1.47 1.35L5.41 20z\"/>\n",
              "  </svg>\n",
              "      </button>\n",
              "      \n",
              "  <style>\n",
              "    .colab-df-container {\n",
              "      display:flex;\n",
              "      flex-wrap:wrap;\n",
              "      gap: 12px;\n",
              "    }\n",
              "\n",
              "    .colab-df-convert {\n",
              "      background-color: #E8F0FE;\n",
              "      border: none;\n",
              "      border-radius: 50%;\n",
              "      cursor: pointer;\n",
              "      display: none;\n",
              "      fill: #1967D2;\n",
              "      height: 32px;\n",
              "      padding: 0 0 0 0;\n",
              "      width: 32px;\n",
              "    }\n",
              "\n",
              "    .colab-df-convert:hover {\n",
              "      background-color: #E2EBFA;\n",
              "      box-shadow: 0px 1px 2px rgba(60, 64, 67, 0.3), 0px 1px 3px 1px rgba(60, 64, 67, 0.15);\n",
              "      fill: #174EA6;\n",
              "    }\n",
              "\n",
              "    [theme=dark] .colab-df-convert {\n",
              "      background-color: #3B4455;\n",
              "      fill: #D2E3FC;\n",
              "    }\n",
              "\n",
              "    [theme=dark] .colab-df-convert:hover {\n",
              "      background-color: #434B5C;\n",
              "      box-shadow: 0px 1px 3px 1px rgba(0, 0, 0, 0.15);\n",
              "      filter: drop-shadow(0px 1px 2px rgba(0, 0, 0, 0.3));\n",
              "      fill: #FFFFFF;\n",
              "    }\n",
              "  </style>\n",
              "\n",
              "      <script>\n",
              "        const buttonEl =\n",
              "          document.querySelector('#df-40edd898-f58d-4da5-83e9-5031c4887104 button.colab-df-convert');\n",
              "        buttonEl.style.display =\n",
              "          google.colab.kernel.accessAllowed ? 'block' : 'none';\n",
              "\n",
              "        async function convertToInteractive(key) {\n",
              "          const element = document.querySelector('#df-40edd898-f58d-4da5-83e9-5031c4887104');\n",
              "          const dataTable =\n",
              "            await google.colab.kernel.invokeFunction('convertToInteractive',\n",
              "                                                     [key], {});\n",
              "          if (!dataTable) return;\n",
              "\n",
              "          const docLinkHtml = 'Like what you see? Visit the ' +\n",
              "            '<a target=\"_blank\" href=https://colab.research.google.com/notebooks/data_table.ipynb>data table notebook</a>'\n",
              "            + ' to learn more about interactive tables.';\n",
              "          element.innerHTML = '';\n",
              "          dataTable['output_type'] = 'display_data';\n",
              "          await google.colab.output.renderOutput(dataTable, element);\n",
              "          const docLink = document.createElement('div');\n",
              "          docLink.innerHTML = docLinkHtml;\n",
              "          element.appendChild(docLink);\n",
              "        }\n",
              "      </script>\n",
              "    </div>\n",
              "  </div>\n",
              "  "
            ]
          },
          "metadata": {},
          "execution_count": 8
        }
      ]
    },
    {
      "cell_type": "code",
      "source": [
        "def record_cus (customer, df):\n",
        "  record = df[df['Customer ID']== customer]\n",
        "  return record"
      ],
      "metadata": {
        "id": "wWeFN1Ro_5rp"
      },
      "execution_count": 9,
      "outputs": []
    },
    {
      "cell_type": "code",
      "source": [
        "def get_index(arr, productId):\n",
        "  index = np.where(arr == productId)\n",
        "  return index[0][0]"
      ],
      "metadata": {
        "id": "EcAb7D0FOB4U"
      },
      "execution_count": 51,
      "outputs": []
    },
    {
      "cell_type": "code",
      "source": [
        "\"\"\"\n",
        "Save each customer with their orders with product quantity and status to dict\n",
        "\"\"\"\n",
        "\n",
        "list_customer = data['Customer ID'].unique()\n",
        "list_product = data['Product Code'].unique()\n",
        "a = {}\n",
        "for i in list_customer:\n",
        "  record = record_cus(i, data)\n",
        "  ci = {}\n",
        "  for j in range(len(record.index)):\n",
        "    order_id = record.iloc[j,:]['Order ID']\n",
        "    product_id = record.iloc[j,:]['Product Code']\n",
        "    if not order_id in ci:\n",
        "      ci[order_id] = np.empty(len(list_product), dtype=object)\n",
        "    index = get_index(list_product,product_id)\n",
        "    ci[order_id][index] = [record.iloc[j,:]['Product Name'],record.iloc[j,:]['Product Quantity'], record.iloc[j,:]['Order Status']]\n",
        "  a[i] = ci\n"
      ],
      "metadata": {
        "id": "GfFT5OoNy53S"
      },
      "execution_count": 70,
      "outputs": []
    },
    {
      "cell_type": "code",
      "source": [
        "from sys import path\n",
        "\"\"\"\n",
        "Save to excel file\n",
        "\"\"\"\n",
        "import openpyxl\n",
        "\n",
        "# Create the workbook and sheet for Excel\n",
        "workbook = openpyxl.Workbook()\n",
        "sheet = workbook.active\n",
        "\n",
        "row = 1\n",
        "column = 1\n",
        "sheet.cell(row = row, column = column, value = \"CustomerId\")\n",
        "column += 1\n",
        "sheet.cell(row = row, column = column, value = \"OrderId\")\n",
        "column += 1\n",
        "\n",
        "for p in list_product:\n",
        "  sheet.cell(row = row, column = column, value = p)\n",
        "  column += 1\n",
        "\n",
        "sheet.cell(row = row, column = column, value = \"Status\")\n",
        "row += 1\n",
        "\n",
        "for customerId in a.keys():\n",
        "  # Put the key in the first column for each key in the dictionary\n",
        "  sheet.cell(row=row, column=1, value=customerId)\n",
        "  column = 2\n",
        "  sum_arr = np.array([0]*len(list_product))\n",
        "  for orderId in a[customerId]:\n",
        "    #put order id in the first column\n",
        "    sheet.cell(row = row, column = column, value = orderId)\n",
        "    column = column +1\n",
        "\n",
        "    s = \"complete\"\n",
        "    arr = []\n",
        "\n",
        "    for k in a[customerId][orderId]:\n",
        "      if k == None:\n",
        "        sheet.cell(row = row, column = column, value =0)\n",
        "        arr.append(0)\n",
        "      else:\n",
        "        if k[2] != 'complete':\n",
        "          s = \"incomplete\"\n",
        "        sheet.cell(row = row, column = column, value = k[1])\n",
        "        arr.append(k[1])\n",
        "      column = column + 1\n",
        "\n",
        "    sum_arr = sum_arr + arr\n",
        "    sheet.cell(row = row, column = column, value = s)\n",
        "    row = row +1\n",
        "    column = 2\n",
        "\n",
        "#calculate sum of each product for each customer\n",
        "  column = 3\n",
        "  for total in sum_arr:\n",
        "    sheet.cell(row = row, column = column, value = total)\n",
        "    column = column +1\n",
        "  row = row +1\n",
        "\n",
        "workbook.save(filename=\"my_workbook.xlsx\")"
      ],
      "metadata": {
        "id": "C6vunTaJwfzF"
      },
      "execution_count": 132,
      "outputs": []
    },
    {
      "cell_type": "code",
      "source": [
        "ar = np.array([0]*len(list_product))"
      ],
      "metadata": {
        "id": "HW9gwn1UHcYq"
      },
      "execution_count": 130,
      "outputs": []
    },
    {
      "cell_type": "code",
      "source": [
        "ar"
      ],
      "metadata": {
        "colab": {
          "base_uri": "https://localhost:8080/"
        },
        "id": "8kR2uG0oUAD7",
        "outputId": "7d3e581d-5614-4e99-f4ce-2f11a7a51c4b"
      },
      "execution_count": 131,
      "outputs": [
        {
          "output_type": "execute_result",
          "data": {
            "text/plain": [
              "array([0, 0, 0, 0, 0, 0, 0, 0, 0, 0, 0])"
            ]
          },
          "metadata": {},
          "execution_count": 131
        }
      ]
    },
    {
      "cell_type": "code",
      "source": [
        ""
      ],
      "metadata": {
        "id": "AIuB5AzAUDLd"
      },
      "execution_count": null,
      "outputs": []
    }
  ]
}